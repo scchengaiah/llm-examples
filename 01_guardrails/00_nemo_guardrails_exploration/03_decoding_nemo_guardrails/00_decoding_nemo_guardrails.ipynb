{
 "cells": [
  {
   "cell_type": "markdown",
   "metadata": {},
   "source": [
    "## Initialize environment variables"
   ]
  },
  {
   "cell_type": "code",
   "execution_count": null,
   "metadata": {},
   "outputs": [],
   "source": [
    "from dotenv import load_dotenv\n",
    "\n",
    "load_dotenv(dotenv_path=\"../.env\")"
   ]
  },
  {
   "cell_type": "markdown",
   "metadata": {},
   "source": [
    "## Langchain debugging"
   ]
  },
  {
   "cell_type": "markdown",
   "metadata": {},
   "source": [
    "### Enable debugging"
   ]
  },
  {
   "cell_type": "code",
   "execution_count": null,
   "metadata": {},
   "outputs": [],
   "source": [
    "from langchain.globals import set_debug\n",
    "set_debug(True)"
   ]
  },
  {
   "cell_type": "markdown",
   "metadata": {},
   "source": [
    "### Disable debugging"
   ]
  },
  {
   "cell_type": "code",
   "execution_count": null,
   "metadata": {},
   "outputs": [],
   "source": [
    "from langchain.globals import set_debug\n",
    "set_debug(False)"
   ]
  },
  {
   "cell_type": "markdown",
   "metadata": {},
   "source": [
    "## Langchain Conversational Chain"
   ]
  },
  {
   "cell_type": "markdown",
   "metadata": {},
   "source": [
    "### Initialize prompt templates"
   ]
  },
  {
   "cell_type": "code",
   "execution_count": null,
   "metadata": {},
   "outputs": [],
   "source": [
    "from langchain_core.prompts import ChatPromptTemplate, PromptTemplate\n",
    "\n",
    "CONDENSE_QUESTION_PROMPT_STR = \"\"\"Given the following conversation and a follow up question, rephrase the follow up question to be a standalone question, in English language. Avoid presenting empty standalone questions. If ambiguity arises, retain the follow up question as is. Do not include any other content other than the rephrased question.\n",
    "\n",
    "Chat History:\n",
    "{chat_history}\n",
    "Follow Up Input: {question}\n",
    "Standalone question:\"\"\"\n",
    "CONDENSE_QUESTION_PROMPT = ChatPromptTemplate.from_template(CONDENSE_QUESTION_PROMPT_STR)\n",
    "\n",
    "QA_PROMPT_STR = \"\"\"You are a friendly chatbot assistant that responds in a conversational manner to users' question on company's policies. \n",
    "Respond in 1-2 complete sentences, unless specifically asked by the user to elaborate on something. Use \"Context\" to inform your answers.\n",
    "Do not make up answers if the question is out of \"Context\". Do not respond with any general information or advice that is not related to the context.\n",
    "Respond to greetings or compliments in a positive manner and let the user know your capability.\n",
    "\n",
    "---\n",
    "Context:\n",
    "{context}\n",
    "---\n",
    "Question:\n",
    "{question}\n",
    "---\n",
    "Response:\n",
    "\"\"\"\n",
    "QA_PROMPT = ChatPromptTemplate.from_template(QA_PROMPT_STR)\n",
    "\n",
    "DEFAULT_DOCUMENT_PROMPT = PromptTemplate.from_template(template=\"{page_content}\")\n"
   ]
  },
  {
   "cell_type": "markdown",
   "metadata": {},
   "source": [
    "### Initialize Azure AI search vector store and embeddings"
   ]
  },
  {
   "cell_type": "code",
   "execution_count": null,
   "metadata": {},
   "outputs": [],
   "source": [
    "import os\n",
    "from langchain_community.vectorstores.azuresearch import AzureSearch\n",
    "from langchain_community.embeddings.bedrock import BedrockEmbeddings\n",
    "\n",
    "azure_search_endpoint = os.getenv(\"AZURE_SEARCH_ENDPOINT\")\n",
    "azure_search_api_key = os.getenv(\"AZURE_SEARCH_API_KEY\")\n",
    "azure_search_index = os.getenv(\"AZURE_SEARCH_INDEX\")\n",
    "\n",
    "azure_embedding_deployment = os.getenv(\"AZURE_EMBEDDING_MODEL_DEPLOYMENT_NAME\")\n",
    "\n",
    "embeddings = BedrockEmbeddings(region_name = os.getenv(\"AWS_REGION\"), model_id= os.getenv(\"AWS_LLM_EMBEDDINGS_ID\"))\n",
    "\n",
    "vector_store = AzureSearch(\n",
    "    azure_search_endpoint=azure_search_endpoint,\n",
    "    azure_search_key=azure_search_api_key,\n",
    "    index_name=azure_search_index,\n",
    "    embedding_function=embeddings.embed_query,\n",
    ")"
   ]
  },
  {
   "cell_type": "markdown",
   "metadata": {},
   "source": [
    "### Initialize chain"
   ]
  },
  {
   "cell_type": "markdown",
   "metadata": {},
   "source": [
    "Initialize LLM object - gpt-3.5-turbo was used"
   ]
  },
  {
   "cell_type": "code",
   "execution_count": null,
   "metadata": {},
   "outputs": [],
   "source": [
    "from langchain_openai.chat_models import AzureChatOpenAI\n",
    "from langchain_openai import AzureOpenAI\n",
    "import os\n",
    "\n",
    "llm = AzureChatOpenAI(\n",
    "            azure_endpoint=os.getenv(\"AZURE_OPENAI_ENDPOINT\"),\n",
    "            deployment_name=os.getenv(\"AZURE_LLM_MODEL_DEPLOYMENT_NAME\"),\n",
    "            temperature=0,\n",
    "            max_tokens=1000,\n",
    "            streaming=True\n",
    "        )"
   ]
  },
  {
   "cell_type": "markdown",
   "metadata": {},
   "source": [
    "Initialize document handling after retrieval and preparation of context for the prompt."
   ]
  },
  {
   "cell_type": "code",
   "execution_count": null,
   "metadata": {},
   "outputs": [],
   "source": [
    "from langchain_core.messages import get_buffer_string\n",
    "from langchain_core.prompts import format_document\n",
    "\n",
    "from operator import itemgetter\n",
    "\n",
    "def combine_documents(docs, document_prompt=DEFAULT_DOCUMENT_PROMPT, document_separator=\"\\n\\n\"):\n",
    "        doc_strings = [format_document(doc, document_prompt) for doc in docs]\n",
    "        return document_separator.join(doc_strings)\n",
    "\n",
    "\n",
    "# Takes the standalone question as the input and the context as the vectorstore.\n",
    "# Confine our retrieval to Germany policies loaded.\n",
    "search_kwargs={\"filters\": \"location eq 'Germany'\",\"k\":3}\n",
    "context = {\n",
    "    \"context\": itemgetter(\"question\") | vector_store.as_retriever(search_kwargs= search_kwargs) | combine_documents,\n",
    "    \"question\": lambda x: x[\"question\"],\n",
    "}\n",
    "\n"
   ]
  },
  {
   "cell_type": "markdown",
   "metadata": {},
   "source": [
    "Chain considering `chat history` and generation of the follow-up question."
   ]
  },
  {
   "cell_type": "code",
   "execution_count": null,
   "metadata": {},
   "outputs": [],
   "source": [
    "from langchain_core.runnables import RunnableParallel, RunnablePassthrough\n",
    "from langchain_core.output_parsers import StrOutputParser\n",
    "\n",
    "\n",
    "# Output of the _inputs execution is the standalone question in the format:\n",
    "# {\"question\": \"question\"}\n",
    "inputs = RunnableParallel(\n",
    "    question=RunnablePassthrough.assign(\n",
    "        chat_history=lambda x: get_buffer_string(x[\"chat_history\"])\n",
    "    )\n",
    "                        | CONDENSE_QUESTION_PROMPT\n",
    "                        | llm\n",
    "                        | StrOutputParser(),\n",
    ")\n",
    "\n",
    "# chain with follow-up question considered. This indicates that the length of the chat_history list is greater than 0.\n",
    "chain_with_follow_up_question = inputs | context | QA_PROMPT | llm"
   ]
  },
  {
   "cell_type": "markdown",
   "metadata": {},
   "source": [
    "Chain without considering `chat history` and generation of the follow-up question."
   ]
  },
  {
   "cell_type": "code",
   "execution_count": null,
   "metadata": {},
   "outputs": [],
   "source": [
    "chain_without_follow_up_question = context | QA_PROMPT | llm"
   ]
  },
  {
   "cell_type": "markdown",
   "metadata": {},
   "source": [
    "## Test with various inputs."
   ]
  },
  {
   "cell_type": "markdown",
   "metadata": {},
   "source": [
    "### Without follow-up question chain"
   ]
  },
  {
   "cell_type": "markdown",
   "metadata": {},
   "source": [
    "Invoke method"
   ]
  },
  {
   "cell_type": "code",
   "execution_count": null,
   "metadata": {},
   "outputs": [],
   "source": [
    "# Chat_history not provided.\n",
    "result = chain_without_follow_up_question.invoke({\"question\": \"What is the capital of France?\"})\n",
    "result"
   ]
  },
  {
   "cell_type": "markdown",
   "metadata": {},
   "source": [
    "Streaming method"
   ]
  },
  {
   "cell_type": "code",
   "execution_count": null,
   "metadata": {},
   "outputs": [],
   "source": [
    "for chunk in chain_without_follow_up_question.stream({\"question\": \"Explain our company's leave policy ?\"}):\n",
    "    print(chunk.content, end=\"\", flush=True)"
   ]
  },
  {
   "cell_type": "markdown",
   "metadata": {},
   "source": [
    "### With follow-up question chain"
   ]
  },
  {
   "cell_type": "code",
   "execution_count": null,
   "metadata": {},
   "outputs": [],
   "source": [
    "\n",
    "from langchain_core.messages.human import HumanMessage\n",
    "from langchain_core.messages.ai import AIMessage\n",
    "\n",
    "query = \"what is the reimbursement amount offered for undertaking englishlanguage course ?\"\n",
    "chat_history =  [\n",
    "                    HumanMessage(content=\"Explain our company's leave policy ?\"), \n",
    "                    AIMessage(content=\"Employees are eligible for 30 days of regular leaves for a given calendar year (1st Jan till 31st Dec) and must apply for planned leaves with prior approval from their project manager and designated reporting manager. In case of emergency, employees must inform their immediate superior and HR, and all leaves must be applied through the Intelizign Intranet Portal.\"),\n",
    "                    HumanMessage(content=\"Explain our company loan policy\"), \n",
    "                    AIMessage(content=\"Our loan policy allows relocated employees in Germany to request a loan for a flat deposit up to 3,000€. To request a loan, employees must email the HR department with the purpose and required amount, and sign a document prepared by HR before repayment within one financial year.\")\n",
    "                ]"
   ]
  },
  {
   "cell_type": "markdown",
   "metadata": {},
   "source": [
    "Invoke method"
   ]
  },
  {
   "cell_type": "code",
   "execution_count": null,
   "metadata": {},
   "outputs": [],
   "source": [
    "%%time\n",
    "result = chain_with_follow_up_question.invoke({\"question\": query, \"chat_history\": chat_history})\n",
    "result"
   ]
  },
  {
   "cell_type": "markdown",
   "metadata": {},
   "source": [
    "Streaming method"
   ]
  },
  {
   "cell_type": "code",
   "execution_count": null,
   "metadata": {},
   "outputs": [],
   "source": [
    "for chunk in chain_with_follow_up_question.stream({\"question\": query, \"chat_history\": chat_history}):\n",
    "    print(chunk.content, end=\"\", flush=True)"
   ]
  },
  {
   "cell_type": "markdown",
   "metadata": {},
   "source": [
    "## NeMo Guardrails setup"
   ]
  },
  {
   "cell_type": "markdown",
   "metadata": {},
   "source": [
    "Patch so that async/await calls work."
   ]
  },
  {
   "cell_type": "code",
   "execution_count": null,
   "metadata": {},
   "outputs": [],
   "source": [
    "import nest_asyncio\n",
    "\n",
    "nest_asyncio.apply()"
   ]
  },
  {
   "cell_type": "markdown",
   "metadata": {},
   "source": [
    "### Guardrails without streaming example"
   ]
  },
  {
   "cell_type": "markdown",
   "metadata": {},
   "source": [
    "#### Example"
   ]
  },
  {
   "cell_type": "code",
   "execution_count": null,
   "metadata": {},
   "outputs": [],
   "source": [
    "from langchain_core.runnables import Runnable\n",
    "from langchain_core.load.load import loads\n",
    "\n",
    "# https://github.com/NVIDIA/NeMo-Guardrails/blob/88da745847355c97be5f3279e9d04275754e6c48/docs/user_guides/langchain/runnable-as-action/README.md\n",
    "class ExecuteQAChainRunnable(Runnable):\n",
    "    def invoke(self, input, config = None, **kwargs):\n",
    "        chat_history = loads(input[\"chat_history\"])\n",
    "        chain_input = {\"question\": input[\"question\"], \"chat_history\": chat_history}\n",
    "\n",
    "        if len(chat_history) > 0:\n",
    "            result = chain_with_follow_up_question.invoke(chain_input)\n",
    "        else:\n",
    "            result = chain_without_follow_up_question.invoke(chain_input)\n",
    "\n",
    "        return result.content"
   ]
  },
  {
   "cell_type": "code",
   "execution_count": null,
   "metadata": {},
   "outputs": [],
   "source": [
    "from nemoguardrails import LLMRails, RailsConfig\n",
    "from langchain_core.messages.human import HumanMessage\n",
    "from langchain_core.messages.ai import AIMessage\n",
    "from langchain_core.load.dump import dumps\n",
    "\n",
    "\n",
    "\n",
    "config = RailsConfig.from_path(\"config\") \n",
    "# We go with Azure OpenAI LLM considering the optimization of prompts with Bedrock.\n",
    "rails = LLMRails(config, llm=llm)\n",
    "rails.register_action(ExecuteQAChainRunnable(), \"qa_chain\")"
   ]
  },
  {
   "cell_type": "code",
   "execution_count": null,
   "metadata": {},
   "outputs": [],
   "source": [
    "%%time\n",
    "query = \"I want to go for a vacation. how many leaves are allowed ?\"\n",
    "#query = \"False answer. Correct yourself plss\"\n",
    "chat_history =  [\n",
    "                    HumanMessage(content=\"Explain our company's leave policy ?\"), \n",
    "                    AIMessage(content=\"Employees are eligible for 30 days of regular leaves for a given calendar year (1st Jan till 31st Dec) and must apply for planned leaves with prior approval from their project manager and designated reporting manager. In case of emergency, employees must inform their immediate superior and HR, and all leaves must be applied through the Intelizign Intranet Portal.\"),\n",
    "                    HumanMessage(content=\"Explain our company loan policy\"), \n",
    "                    AIMessage(content=\"Our loan policy allows relocated employees in Germany to request a loan for a flat deposit up to 3,000€. To request a loan, employees must email the HR department with the purpose and required amount, and sign a document prepared by HR before repayment within one financial year.\")\n",
    "                ]\n",
    "                \n",
    "chat_history = []\n",
    "\n",
    "messages = [{\"role\": \"context\", \"content\": {\"chat_history\": dumps(chat_history)}},\n",
    "            {\"role\": \"user\",\"content\": query}]\n",
    "\n",
    "response = rails.generate(messages=messages)\n",
    "response"
   ]
  },
  {
   "cell_type": "markdown",
   "metadata": {},
   "source": [
    "### Analyze the rails execution related aspects"
   ]
  },
  {
   "cell_type": "code",
   "execution_count": null,
   "metadata": {},
   "outputs": [],
   "source": [
    "info = rails.explain()\n",
    "print(info.colang_history)"
   ]
  },
  {
   "cell_type": "code",
   "execution_count": null,
   "metadata": {},
   "outputs": [],
   "source": [
    "info = rails.explain()\n",
    "info.print_llm_calls_summary()"
   ]
  },
  {
   "cell_type": "code",
   "execution_count": null,
   "metadata": {},
   "outputs": [],
   "source": [
    "info = rails.explain()\n",
    "for llm_call in info.llm_calls:\n",
    "    print(\"*\" * 25 + \"PROMPT\" + \"*\" * 25)\n",
    "    print(llm_call.prompt)\n",
    "\n",
    "    print(\"*\" * 25 + \"COMPLETION\" + \"*\" * 25)\n",
    "    print(llm_call.completion)"
   ]
  },
  {
   "cell_type": "markdown",
   "metadata": {},
   "source": [
    "## Additional References\n",
    "\n",
    "[Using NVIDIA NeMo Guardrails with Amazon Bedrock](https://www.linkedin.com/pulse/using-nvidia-nemo-guardrails-amazon-bedrock-khobaib-zaamout-ph-d--b57hc?utm_source=share&utm_medium=member_android&utm_campaign=share_via)\n",
    "\n",
    "[Using NVIDIA NeMo Guardrails with Amazon Bedrock - AWS Reference](https://community.aws/content/2e8kWQ7TihDbxj8ei22DKi2pfFf/using-nvidia-nemo-guardrails-with-bedrock)\n",
    "\n",
    "[Amazon Bedrock support - Github Issue](https://github.com/NVIDIA/NeMo-Guardrails/issues/118)"
   ]
  },
  {
   "cell_type": "code",
   "execution_count": null,
   "metadata": {},
   "outputs": [],
   "source": []
  }
 ],
 "metadata": {
  "kernelspec": {
   "display_name": "myvenv",
   "language": "python",
   "name": "python3"
  },
  "language_info": {
   "codemirror_mode": {
    "name": "ipython",
    "version": 3
   },
   "file_extension": ".py",
   "mimetype": "text/x-python",
   "name": "python",
   "nbconvert_exporter": "python",
   "pygments_lexer": "ipython3",
   "version": "3.11.0"
  }
 },
 "nbformat": 4,
 "nbformat_minor": 2
}

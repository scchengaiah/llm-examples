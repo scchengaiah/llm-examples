{
 "cells": [
  {
   "cell_type": "markdown",
   "metadata": {},
   "source": [
    "## Initialize environment"
   ]
  },
  {
   "cell_type": "code",
   "execution_count": null,
   "metadata": {},
   "outputs": [],
   "source": [
    "from dotenv import load_dotenv\n",
    "\n",
    "load_dotenv(dotenv_path=\".env\")"
   ]
  },
  {
   "cell_type": "markdown",
   "metadata": {},
   "source": [
    "## Initialize Embeddings\n",
    "\n",
    "We use AWS Bedrock Embedding"
   ]
  },
  {
   "cell_type": "code",
   "execution_count": null,
   "metadata": {},
   "outputs": [],
   "source": [
    "import os\n",
    "from langchain_community.embeddings import BedrockEmbeddings\n",
    "from langchain_community.vectorstores.azuresearch import AzureSearch\n",
    "\n",
    "\n",
    "class AWSBedrockEmbeddings:\n",
    "\n",
    "    def __init__(self):\n",
    "        self._embeddings = None\n",
    "        self._validate_aws_env_variables()\n",
    "        self._region_name = os.environ[\"AWS_REGION\"]\n",
    "        self._model_id = os.environ[\"AWS_LLM_EMBEDDINGS_ID\"]\n",
    "        self.initialize_embeddings()\n",
    "\n",
    "    def initialize_embeddings(self):\n",
    "        self._embeddings = BedrockEmbeddings(region_name=self._region_name, model_id=self._model_id)\n",
    "\n",
    "    @property\n",
    "    def region_name(self):\n",
    "        return self._region_name\n",
    "\n",
    "    @property\n",
    "    def model_id(self):\n",
    "        return self._model_id\n",
    "\n",
    "    @property\n",
    "    def embeddings(self):\n",
    "        return self._embeddings\n",
    "\n",
    "    def _validate_aws_env_variables(self):\n",
    "        if \"AWS_REGION\" not in os.environ:\n",
    "            raise ValueError(\"AWS_REGION environment variable not set\")\n",
    "        if \"AWS_LLM_EMBEDDINGS_ID\" not in os.environ:\n",
    "            raise ValueError(\"AWS_LLM_EMBEDDINGS_ID environment variable not set\")\n",
    "        if \"AWS_ACCESS_KEY_ID\" not in os.environ:\n",
    "            raise ValueError(\"AWS_ACCESS_KEY_ID environment variable not set\")\n",
    "        if \"AWS_SECRET_ACCESS_KEY\" not in os.environ:\n",
    "            raise ValueError(\"AWS_SECRET_ACCESS_KEY environment variable not set\")\n",
    "\n",
    "embeddings = AWSBedrockEmbeddings().embeddings"
   ]
  },
  {
   "cell_type": "markdown",
   "metadata": {},
   "source": [
    "## Initialize Vector Store\n",
    "\n",
    "We use PGVector as our vector store to load the embeddings.\n",
    "\n",
    "[Langchain Documentation Reference](https://python.langchain.com/docs/integrations/vectorstores/pgvector)"
   ]
  },
  {
   "cell_type": "code",
   "execution_count": null,
   "metadata": {},
   "outputs": [],
   "source": [
    "from langchain_community.vectorstores.pgvector import PGVector\n",
    "\n",
    "CONNECTION_STRING = PGVector.connection_string_from_db_params(\n",
    "    driver=os.environ.get(\"PGVECTOR_DRIVER\", \"psycopg2\"),\n",
    "    host=os.environ.get(\"POSTGRES_HOST\", \"localhost\"),\n",
    "    port=int(os.environ.get(\"POSTGRES_PORT\", \"5432\")),\n",
    "    database=os.environ.get(\"POSTGRES_DB\", \"postgres\"),\n",
    "    user=os.environ.get(\"POSTGRES_USER\", \"postgres\"),\n",
    "    password=os.environ.get(\"POSTGRES_PASSWORD\", \"postgres\"),\n",
    ")"
   ]
  },
  {
   "cell_type": "markdown",
   "metadata": {},
   "source": [
    "## Load data into the vector store\n",
    "\n",
    "We load the [payment receipt](./Payment_Receipt.pdf) file into the vector store."
   ]
  },
  {
   "cell_type": "markdown",
   "metadata": {},
   "source": [
    "### Split the pdf data via RecursiveCharacterTextSplitter"
   ]
  },
  {
   "cell_type": "code",
   "execution_count": null,
   "metadata": {},
   "outputs": [],
   "source": [
    "from langchain.document_loaders import  PDFPlumberLoader\n",
    "from langchain.text_splitter import RecursiveCharacterTextSplitter\n",
    "\n",
    "pdf_loader = PDFPlumberLoader(\"./Payment_Receipt.pdf\")\n",
    "pdf_data = pdf_loader.load()\n",
    "\n",
    "text_splitter = RecursiveCharacterTextSplitter(\n",
    "    chunk_size = 500,\n",
    "    chunk_overlap = 50,\n",
    "    length_function = len,\n",
    ")\n",
    "\n",
    "docs = text_splitter.split_documents(pdf_data)"
   ]
  },
  {
   "cell_type": "markdown",
   "metadata": {},
   "source": [
    "### Load the data into the PgVector vector store"
   ]
  },
  {
   "cell_type": "code",
   "execution_count": null,
   "metadata": {},
   "outputs": [],
   "source": [
    "# The PGVector Module will try to create a table with the name of the collection.\n",
    "# So, make sure that the collection name is unique and the user has the permission to create a table.\n",
    "\n",
    "COLLECTION_NAME = \"pgvector_exploration\"\n",
    "\n",
    "if docs:\n",
    "    vector_store = PGVector(\n",
    "        embedding_function=embeddings,\n",
    "        collection_name=COLLECTION_NAME,\n",
    "        connection_string=CONNECTION_STRING,\n",
    "    )\n",
    "    vector_store.add_documents(docs)\n",
    "    print(\"Successfully ingested the data into the vector store.\")"
   ]
  },
  {
   "cell_type": "markdown",
   "metadata": {},
   "source": [
    "### Similarity Search with Cosine Distance (Default)"
   ]
  },
  {
   "cell_type": "code",
   "execution_count": null,
   "metadata": {},
   "outputs": [],
   "source": [
    "query = \"what is the mode of payment ?\"\n",
    "\n",
    "docs_with_score = vector_store.similarity_search_with_score(query, k=2)\n",
    "\n",
    "for doc, score in docs_with_score:\n",
    "    print(\"-\" * 80)\n",
    "    print(\"Cosine Distance (Score): \", score)\n",
    "    print(\"Cosine Similarity (Score): \", 1 -score)  # Cosine Similarity = 1 - Cosine Distance\n",
    "    print(doc.page_content)\n",
    "    print(\"-\" * 80)"
   ]
  },
  {
   "cell_type": "markdown",
   "metadata": {},
   "source": [
    "### Maximal Marginal Relevance Search (MMR)\n",
    "\n",
    "Maximal marginal relevance optimizes for similarity to query AND diversity among selected documents."
   ]
  },
  {
   "cell_type": "code",
   "execution_count": null,
   "metadata": {},
   "outputs": [],
   "source": [
    "docs_with_score = vector_store.max_marginal_relevance_search_with_score(query, k=2)\n",
    "\n",
    "for doc, score in docs_with_score:\n",
    "    print(\"-\" * 80)\n",
    "    print(\"Cosine Distance (Score): \", score)\n",
    "    print(\"Cosine Similarity (Score): \", 1 -score)  # Cosine Similarity = 1 - Cosine Distance\n",
    "    print(doc.page_content)\n",
    "    print(\"-\" * 80)"
   ]
  },
  {
   "cell_type": "markdown",
   "metadata": {},
   "source": [
    "### Using vector store as retriever"
   ]
  },
  {
   "cell_type": "code",
   "execution_count": null,
   "metadata": {},
   "outputs": [],
   "source": [
    "retriever = vector_store.as_retriever(search_type = \"similarity\", search_kwargs={\"k\": 2})\n",
    "\n",
    "docs = retriever.invoke(query)\n",
    "\n",
    "print(docs)"
   ]
  },
  {
   "cell_type": "markdown",
   "metadata": {},
   "source": [
    "## LLM invocation with Pgvector as vector store"
   ]
  },
  {
   "cell_type": "code",
   "execution_count": null,
   "metadata": {},
   "outputs": [],
   "source": [
    "from langchain import hub\n",
    "from langchain_openai import AzureChatOpenAI\n",
    "from langchain_core.runnables import RunnablePassthrough\n",
    "from langchain_core.output_parsers import StrOutputParser\n",
    "\n",
    "# Prepare prompt template from langsmith hub\n",
    "prompt = hub.pull(\"rlm/rag-prompt\")\n",
    "\n",
    "# Initialize Chat Model\n",
    "azure_endpoint = os.getenv(\"AZURE_OPENAI_ENDPOINT\")\n",
    "deployment_name = os.getenv(\"AZURE_LLM_MODEL_DEPLOYMENT_NAME\")\n",
    "openai_api_key = os.getenv(\"AZURE_API_KEY\")\n",
    "openai_api_version= os.getenv(\"AZURE_API_VERSION\")\n",
    "\n",
    "llm = AzureChatOpenAI(azure_endpoint=azure_endpoint, \n",
    "                  deployment_name=deployment_name,\n",
    "                  openai_api_key=openai_api_key,\n",
    "                  openai_api_version=openai_api_version,\n",
    "                  temperature=0)"
   ]
  },
  {
   "cell_type": "code",
   "execution_count": null,
   "metadata": {},
   "outputs": [],
   "source": [
    "# Merge documents retrieved from vector store.\n",
    "def format_docs(docs):\n",
    "    return \"\\n\\n\".join(doc.page_content for doc in docs)"
   ]
  },
  {
   "cell_type": "code",
   "execution_count": null,
   "metadata": {},
   "outputs": [],
   "source": [
    "query = \"what is the payment amount ?\"\n",
    "\n",
    "rag_chain = (\n",
    "    {\"context\": retriever | format_docs, \"question\": RunnablePassthrough()}\n",
    "    | prompt\n",
    "    | llm\n",
    "    | StrOutputParser()\n",
    ")\n",
    "\n",
    "chunks = []\n",
    "for chunk in rag_chain.stream(query):\n",
    "    chunks.append(chunk)\n",
    "    print(chunk, end=\"\", flush=True)"
   ]
  },
  {
   "cell_type": "code",
   "execution_count": null,
   "metadata": {},
   "outputs": [],
   "source": []
  }
 ],
 "metadata": {
  "kernelspec": {
   "display_name": ".venv",
   "language": "python",
   "name": "python3"
  },
  "language_info": {
   "codemirror_mode": {
    "name": "ipython",
    "version": 3
   },
   "file_extension": ".py",
   "mimetype": "text/x-python",
   "name": "python",
   "nbconvert_exporter": "python",
   "pygments_lexer": "ipython3",
   "version": "3.11.0"
  },
  "orig_nbformat": 4
 },
 "nbformat": 4,
 "nbformat_minor": 2
}

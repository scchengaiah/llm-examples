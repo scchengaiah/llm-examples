{
 "cells": [
  {
   "cell_type": "markdown",
   "metadata": {},
   "source": [
    "## Initialize environment"
   ]
  },
  {
   "cell_type": "code",
   "execution_count": null,
   "metadata": {},
   "outputs": [],
   "source": [
    "from dotenv import load_dotenv\n",
    "\n",
    "load_dotenv(dotenv_path=\".env\")"
   ]
  },
  {
   "cell_type": "markdown",
   "metadata": {},
   "source": [
    "## Initialize Embeddings & Vector Store\n",
    "\n",
    "We use AWS Bedrock Embeddings and Azure AI search as vector store."
   ]
  },
  {
   "cell_type": "code",
   "execution_count": null,
   "metadata": {},
   "outputs": [],
   "source": [
    "import os\n",
    "from langchain_community.embeddings import BedrockEmbeddings\n",
    "from langchain_community.vectorstores.azuresearch import AzureSearch\n",
    "\n",
    "\n",
    "class AWSBedrockEmbeddings:\n",
    "\n",
    "    def __init__(self):\n",
    "        self._embeddings = None\n",
    "        self._validate_aws_env_variables()\n",
    "        self._region_name = os.environ[\"AWS_REGION\"]\n",
    "        self._model_id = os.environ[\"AWS_LLM_EMBEDDINGS_ID\"]\n",
    "        self.initialize_embeddings()\n",
    "\n",
    "    def initialize_embeddings(self):\n",
    "        self._embeddings = BedrockEmbeddings(region_name=self._region_name, model_id=self._model_id)\n",
    "\n",
    "    @property\n",
    "    def region_name(self):\n",
    "        return self._region_name\n",
    "\n",
    "    @property\n",
    "    def model_id(self):\n",
    "        return self._model_id\n",
    "\n",
    "    @property\n",
    "    def embeddings(self):\n",
    "        return self._embeddings\n",
    "\n",
    "    def _validate_aws_env_variables(self):\n",
    "        if \"AWS_REGION\" not in os.environ:\n",
    "            raise ValueError(\"AWS_REGION environment variable not set\")\n",
    "        if \"AWS_LLM_EMBEDDINGS_ID\" not in os.environ:\n",
    "            raise ValueError(\"AWS_LLM_EMBEDDINGS_ID environment variable not set\")\n",
    "        if \"AWS_ACCESS_KEY_ID\" not in os.environ:\n",
    "            raise ValueError(\"AWS_ACCESS_KEY_ID environment variable not set\")\n",
    "        if \"AWS_SECRET_ACCESS_KEY\" not in os.environ:\n",
    "            raise ValueError(\"AWS_SECRET_ACCESS_KEY environment variable not set\")\n",
    "\n",
    "\n",
    "def get_azure_search_vector_store(embeddings):\n",
    "    \"\"\"\n",
    "    Get the Azure Search vector store using the provided embeddings.\n",
    "\n",
    "    :param embeddings: The embeddings to be used for the vector store.\n",
    "    :return: The Azure Search vector store.\n",
    "    \"\"\"\n",
    "    azure_search_endpoint = os.getenv(\"AZURE_SEARCH_ENDPOINT\")\n",
    "    azure_search_api_key = os.getenv(\"AZURE_SEARCH_API_KEY\")\n",
    "    azure_search_index = os.getenv(\"AZURE_SEARCH_INDEX\")\n",
    "\n",
    "    vector_store = AzureSearch(\n",
    "        azure_search_endpoint=azure_search_endpoint,\n",
    "        azure_search_key=azure_search_api_key,\n",
    "        index_name=azure_search_index,\n",
    "        embedding_function=embeddings.embed_query,\n",
    "    )\n",
    "    return vector_store"
   ]
  },
  {
   "cell_type": "code",
   "execution_count": null,
   "metadata": {},
   "outputs": [],
   "source": [
    "embeddings = AWSBedrockEmbeddings().embeddings\n",
    "vectorstore = get_azure_search_vector_store(embeddings)"
   ]
  },
  {
   "cell_type": "markdown",
   "metadata": {},
   "source": [
    "## Setup Caching via SQLAlchemy\n",
    "\n",
    "**References:**\n",
    "https://python.langchain.com/docs/integrations/llms/llm_caching#sqlalchemy-cache"
   ]
  },
  {
   "cell_type": "markdown",
   "metadata": {},
   "source": [
    "### Custom SQLAlchemy Schemas"
   ]
  },
  {
   "cell_type": "code",
   "execution_count": null,
   "metadata": {},
   "outputs": [],
   "source": [
    "# You can define your own declarative SQLAlchemyCache child class to customize the schema used for caching. For example, to support high-speed fulltext prompt indexing with Postgres, use:\n",
    "\n",
    "from langchain.cache import SQLAlchemyCache\n",
    "from sqlalchemy import Column, Computed, Index, Integer, Sequence, String, create_engine\n",
    "from sqlalchemy.ext.declarative import declarative_base\n",
    "from sqlalchemy_utils import TSVectorType\n",
    "\n",
    "Base = declarative_base()\n",
    "\n",
    "\n",
    "class FulltextLLMCache(Base):  # type: ignore\n",
    "    \"\"\"Postgres table for fulltext-indexed LLM Cache\"\"\"\n",
    "\n",
    "    __tablename__ = \"llm_cache_fulltext\"\n",
    "    id = Column(Integer, Sequence(\"cache_id\"), primary_key=True)\n",
    "    prompt = Column(String, nullable=False)\n",
    "    llm = Column(String, nullable=False)\n",
    "    idx = Column(Integer)\n",
    "    response = Column(String)\n",
    "    # https://www.postgresql.org/docs/current/datatype-textsearch.html\n",
    "    # https://dev.to/nightbird07/full-text-search-in-postgresql-a-comprehensive-guide-3kcn\n",
    "    # https://medium.com/geekculture/comprehend-tsvector-and-tsquery-in-postgres-for-full-text-search-1fd4323409fc\n",
    "    prompt_tsv = Column(\n",
    "        TSVectorType(),\n",
    "        Computed(\"to_tsvector('english', llm || ' ' || prompt)\", persisted=True),\n",
    "    )\n",
    "    __table_args__ = (\n",
    "        Index(\"idx_fulltext_prompt_tsv\", prompt_tsv, postgresql_using=\"gin\"),\n",
    "    )\n",
    "\n",
    "\n",
    "postgres_host = os.getenv(\"POSTGRES_HOST\")\n",
    "postgres_port = os.getenv(\"POSTGRES_PORT\")\n",
    "postgres_user = os.getenv(\"POSTGRES_USER\")\n",
    "postgres_password = os.getenv(\"POSTGRES_PASSWORD\")\n",
    "postgres_db = os.getenv(\"POSTGRES_DB\")\n",
    "\n",
    "sql_url = f\"postgresql://{postgres_user}:{postgres_password}@{postgres_host}:{postgres_port}/{postgres_db}\"\n",
    "\n",
    "engine = create_engine(sql_url)\n"
   ]
  },
  {
   "cell_type": "markdown",
   "metadata": {},
   "source": [
    "### Configure caching via Langchain"
   ]
  },
  {
   "cell_type": "code",
   "execution_count": null,
   "metadata": {},
   "outputs": [],
   "source": [
    "from langchain_core.globals import set_llm_cache\n",
    "\n",
    "set_llm_cache(SQLAlchemyCache(engine, FulltextLLMCache))"
   ]
  },
  {
   "cell_type": "code",
   "execution_count": null,
   "metadata": {},
   "outputs": [],
   "source": [
    "from langchain_openai import AzureOpenAI\n",
    "\n",
    "azure_endpoint = os.getenv(\"AZURE_OPENAI_ENDPOINT\")\n",
    "deployment_name = os.getenv(\"AZURE_LLM_MODEL_DEPLOYMENT_NAME\")\n",
    "openai_api_key = os.getenv(\"AZURE_API_KEY\")\n",
    "openai_api_version= os.getenv(\"AZURE_API_VERSION\")\n",
    "\n",
    "llm = AzureOpenAI(azure_endpoint=azure_endpoint, \n",
    "                  deployment_name=deployment_name,\n",
    "                  openai_api_key=openai_api_key,\n",
    "                  openai_api_version=openai_api_version)"
   ]
  },
  {
   "cell_type": "code",
   "execution_count": null,
   "metadata": {},
   "outputs": [],
   "source": [
    "%%time\n",
    "\n",
    "llm.invoke(\"Tell me a joke\")"
   ]
  },
  {
   "cell_type": "code",
   "execution_count": null,
   "metadata": {},
   "outputs": [],
   "source": []
  },
  {
   "cell_type": "code",
   "execution_count": null,
   "metadata": {},
   "outputs": [],
   "source": []
  }
 ],
 "metadata": {
  "kernelspec": {
   "display_name": ".venv",
   "language": "python",
   "name": "python3"
  },
  "language_info": {
   "codemirror_mode": {
    "name": "ipython",
    "version": 3
   },
   "file_extension": ".py",
   "mimetype": "text/x-python",
   "name": "python",
   "nbconvert_exporter": "python",
   "pygments_lexer": "ipython3",
   "version": "3.11.0"
  },
  "orig_nbformat": 4
 },
 "nbformat": 4,
 "nbformat_minor": 2
}

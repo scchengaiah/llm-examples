{
 "cells": [
  {
   "cell_type": "markdown",
   "metadata": {},
   "source": [
    "## Initialize environment"
   ]
  },
  {
   "cell_type": "code",
   "execution_count": 1,
   "metadata": {},
   "outputs": [
    {
     "data": {
      "text/plain": [
       "True"
      ]
     },
     "execution_count": 1,
     "metadata": {},
     "output_type": "execute_result"
    }
   ],
   "source": [
    "from dotenv import load_dotenv\n",
    "\n",
    "load_dotenv(dotenv_path=\".env\")"
   ]
  },
  {
   "cell_type": "markdown",
   "metadata": {},
   "source": [
    "## Initialize Embeddings & Vector Store\n",
    "\n",
    "We use AWS Bedrock Embeddings and Azure AI search as vector store."
   ]
  },
  {
   "cell_type": "code",
   "execution_count": 2,
   "metadata": {},
   "outputs": [],
   "source": [
    "import os\n",
    "from langchain_community.embeddings import BedrockEmbeddings\n",
    "from langchain_community.vectorstores.azuresearch import AzureSearch\n",
    "\n",
    "\n",
    "class AWSBedrockEmbeddings:\n",
    "\n",
    "    def __init__(self):\n",
    "        self._embeddings = None\n",
    "        self._validate_aws_env_variables()\n",
    "        self._region_name = os.environ[\"AWS_REGION\"]\n",
    "        self._model_id = os.environ[\"AWS_LLM_EMBEDDINGS_ID\"]\n",
    "        self.initialize_embeddings()\n",
    "\n",
    "    def initialize_embeddings(self):\n",
    "        self._embeddings = BedrockEmbeddings(region_name=self._region_name, model_id=self._model_id)\n",
    "\n",
    "    @property\n",
    "    def region_name(self):\n",
    "        return self._region_name\n",
    "\n",
    "    @property\n",
    "    def model_id(self):\n",
    "        return self._model_id\n",
    "\n",
    "    @property\n",
    "    def embeddings(self):\n",
    "        return self._embeddings\n",
    "\n",
    "    def _validate_aws_env_variables(self):\n",
    "        if \"AWS_REGION\" not in os.environ:\n",
    "            raise ValueError(\"AWS_REGION environment variable not set\")\n",
    "        if \"AWS_LLM_EMBEDDINGS_ID\" not in os.environ:\n",
    "            raise ValueError(\"AWS_LLM_EMBEDDINGS_ID environment variable not set\")\n",
    "        if \"AWS_ACCESS_KEY_ID\" not in os.environ:\n",
    "            raise ValueError(\"AWS_ACCESS_KEY_ID environment variable not set\")\n",
    "        if \"AWS_SECRET_ACCESS_KEY\" not in os.environ:\n",
    "            raise ValueError(\"AWS_SECRET_ACCESS_KEY environment variable not set\")\n",
    "\n",
    "\n",
    "def get_azure_search_vector_store(embeddings):\n",
    "    \"\"\"\n",
    "    Get the Azure Search vector store using the provided embeddings.\n",
    "\n",
    "    :param embeddings: The embeddings to be used for the vector store.\n",
    "    :return: The Azure Search vector store.\n",
    "    \"\"\"\n",
    "    azure_search_endpoint = os.getenv(\"AZURE_SEARCH_ENDPOINT\")\n",
    "    azure_search_api_key = os.getenv(\"AZURE_SEARCH_API_KEY\")\n",
    "    azure_search_index = os.getenv(\"AZURE_SEARCH_INDEX\")\n",
    "\n",
    "    vector_store = AzureSearch(\n",
    "        azure_search_endpoint=azure_search_endpoint,\n",
    "        azure_search_key=azure_search_api_key,\n",
    "        index_name=azure_search_index,\n",
    "        embedding_function=embeddings.embed_query,\n",
    "    )\n",
    "    return vector_store"
   ]
  },
  {
   "cell_type": "code",
   "execution_count": 3,
   "metadata": {},
   "outputs": [],
   "source": [
    "embeddings = AWSBedrockEmbeddings().embeddings\n",
    "vectorstore = get_azure_search_vector_store(embeddings)"
   ]
  },
  {
   "cell_type": "markdown",
   "metadata": {},
   "source": [
    "## Setup Caching via Custom caching"
   ]
  },
  {
   "cell_type": "markdown",
   "metadata": {},
   "source": [
    "### PostgreSQL Semantic Caching"
   ]
  },
  {
   "cell_type": "code",
   "execution_count": 4,
   "metadata": {},
   "outputs": [],
   "source": [
    "from typing import Any, Optional, List\n",
    "import os\n",
    "\n",
    "import psycopg\n",
    "from langchain_core.caches import RETURN_VAL_TYPE, BaseCache\n",
    "from langchain_core.embeddings import Embeddings\n",
    "from langchain_core.load.dump import dumps\n",
    "from langchain_core.load.load import loads\n",
    "\n",
    "\n",
    "DB_INIT_SQL = \"\"\"\n",
    "CREATE TABLE IF NOT EXISTS public.langchain_semantic_cache(\n",
    "    id SERIAL PRIMARY KEY,\n",
    "    prompt TEXT,\n",
    "    prompt_embedding vector(1536),\n",
    "    response TEXT,\n",
    "    created_at timestamp default current_timestamp\n",
    ");\n",
    "\n",
    "CREATE INDEX IF NOT EXISTS langchain_semantic_cache_hnsw_index\n",
    "    ON public.langchain_semantic_cache\n",
    "    USING hnsw\n",
    "    (prompt_embedding vector_cosine_ops)\n",
    "    WITH (m = 8, ef_construction = 20);\n",
    "\"\"\"\n",
    "\n",
    "\n",
    "\n",
    "def get_postgres_conn_url():\n",
    "    postgres_host = os.getenv(\"POSTGRES_HOST\")\n",
    "    postgres_port = os.getenv(\"POSTGRES_PORT\")\n",
    "    postgres_user = os.getenv(\"POSTGRES_USER\")\n",
    "    postgres_password = os.getenv(\"POSTGRES_PASSWORD\")\n",
    "    postgres_db = os.getenv(\"POSTGRES_DB\")\n",
    "\n",
    "    return f\"postgresql://{postgres_user}:{postgres_password}@{postgres_host}:{postgres_port}/{postgres_db}\"\n",
    "\n",
    "\n",
    "def get_postgres_conn():\n",
    "    return psycopg.connect(\n",
    "        user=os.environ[\"POSTGRES_USER\"],\n",
    "        password=os.environ[\"POSTGRES_PASSWORD\"],\n",
    "        host=os.environ[\"POSTGRES_HOST\"],\n",
    "        port=os.environ[\"POSTGRES_PORT\"],  # The port you exposed in docker-compose.yml\n",
    "        dbname=os.environ[\"POSTGRES_DB\"]\n",
    "    )\n",
    "\n",
    "\n",
    "def get_prompt_content(prompt: str):\n",
    "    return loads(prompt)[0].content\n",
    "\n",
    "\n",
    "def _init_db():\n",
    "    with get_postgres_conn() as conn:\n",
    "        with conn.cursor() as cursor:\n",
    "            cursor.execute(DB_INIT_SQL)\n",
    "\n",
    "\n",
    "class PostgreSQLSemanticCache(BaseCache):\n",
    "\n",
    "    def __init__(self, embeddings: Embeddings, score_threshold: float = 0.7, top_k: int = 3):\n",
    "        self.embeddings = embeddings\n",
    "        self.score_threshold = score_threshold\n",
    "        self.top_k = top_k\n",
    "        _init_db()\n",
    "\n",
    "    def lookup(self, prompt: str, llm_string: str) -> Optional[RETURN_VAL_TYPE]:\n",
    "        prompt_content = get_prompt_content(prompt)\n",
    "        with get_postgres_conn() as conn:\n",
    "            with conn.cursor() as cursor:\n",
    "                cursor.execute(\"\"\"\n",
    "                    SELECT \n",
    "                        prompt,\n",
    "                        response,\n",
    "                        prompt_embedding <=> %(prompt_vector)s::vector as cosine_distance,\n",
    "                        (1 - (prompt_embedding <=> %(prompt_vector)s::vector)) as cosine_similarity\n",
    "                    FROM\n",
    "                        langchain_semantic_cache\n",
    "                    WHERE\n",
    "                        prompt_embedding is not null\n",
    "                        and (1 - (prompt_embedding <=> %(prompt_vector)s::vector)) >= %(match_threshold)s\n",
    "                    ORDER BY \n",
    "                        cosine_distance ASC\n",
    "                    LIMIT %(match_cnt)s\n",
    "                \"\"\", {'prompt_vector': self.embeddings.embed_query(prompt_content),\n",
    "                      'match_threshold': self.score_threshold,\n",
    "                      'match_cnt': self.top_k})\n",
    "                rows = cursor.fetchall()\n",
    "                if len(rows) > 0:\n",
    "                    return [loads(row[1]) for row in rows]\n",
    "\n",
    "        return None\n",
    "\n",
    "    def update(self, prompt: str, llm_string: str, return_val: RETURN_VAL_TYPE) -> None:\n",
    "        prompt_content = get_prompt_content(prompt)\n",
    "        with get_postgres_conn() as conn:\n",
    "            with conn.cursor() as cursor:\n",
    "                for idx, gen in enumerate(return_val):\n",
    "                    cursor.execute(\"\"\"\n",
    "                        INSERT INTO\n",
    "                            langchain_semantic_cache\n",
    "                        (prompt, response, prompt_embedding)\n",
    "                        VALUES\n",
    "                            (%(prompt)s, %(response)s, %(prompt_vector)s::vector)\n",
    "                    \"\"\", {'prompt': prompt_content,\n",
    "                          'response': dumps(gen),\n",
    "                          'prompt_vector': self.embeddings.embed_query(prompt_content)})\n",
    "\n",
    "    def clear(self, **kwargs: Any) -> None:\n",
    "        with get_postgres_conn() as conn:\n",
    "            with conn.cursor() as cursor:\n",
    "                cursor.execute(\"\"\"\n",
    "                        TRUNCATE langchain_semantic_cache\n",
    "                    \"\"\")\n"
   ]
  },
  {
   "cell_type": "markdown",
   "metadata": {},
   "source": [
    "### Configure caching via Langchain"
   ]
  },
  {
   "cell_type": "code",
   "execution_count": 5,
   "metadata": {},
   "outputs": [],
   "source": [
    "from langchain_core.globals import set_llm_cache\n",
    "\n",
    "postgresql_semantic_cache = PostgreSQLSemanticCache(embeddings=embeddings)\n",
    "set_llm_cache(postgresql_semantic_cache)"
   ]
  },
  {
   "cell_type": "code",
   "execution_count": 6,
   "metadata": {},
   "outputs": [],
   "source": [
    "from langchain_openai import AzureChatOpenAI\n",
    "\n",
    "azure_endpoint = os.getenv(\"AZURE_OPENAI_ENDPOINT\")\n",
    "deployment_name = os.getenv(\"AZURE_LLM_MODEL_DEPLOYMENT_NAME\")\n",
    "openai_api_key = os.getenv(\"AZURE_API_KEY\")\n",
    "openai_api_version= os.getenv(\"AZURE_API_VERSION\")\n",
    "\n",
    "llm = AzureChatOpenAI(azure_endpoint=azure_endpoint, \n",
    "                  deployment_name=deployment_name,\n",
    "                  openai_api_key=openai_api_key,\n",
    "                  openai_api_version=openai_api_version,\n",
    "                  temperature=0)"
   ]
  },
  {
   "cell_type": "code",
   "execution_count": 22,
   "metadata": {},
   "outputs": [
    {
     "name": "stdout",
     "output_type": "stream",
     "text": [
      "CPU times: total: 31.2 ms\n",
      "Wall time: 424 ms\n"
     ]
    },
    {
     "data": {
      "text/plain": [
       "AIMessage(content='Hello! How can I assist you today?')"
      ]
     },
     "execution_count": 22,
     "metadata": {},
     "output_type": "execute_result"
    }
   ],
   "source": [
    "%%time\n",
    "llm.invoke(\"Hello\")"
   ]
  },
  {
   "cell_type": "markdown",
   "metadata": {},
   "source": [
    "Clear the cache"
   ]
  },
  {
   "cell_type": "code",
   "execution_count": 8,
   "metadata": {},
   "outputs": [],
   "source": [
    "# postgresql_semantic_cache.clear()"
   ]
  },
  {
   "cell_type": "code",
   "execution_count": null,
   "metadata": {},
   "outputs": [],
   "source": []
  }
 ],
 "metadata": {
  "kernelspec": {
   "display_name": ".venv",
   "language": "python",
   "name": "python3"
  },
  "language_info": {
   "codemirror_mode": {
    "name": "ipython",
    "version": 3
   },
   "file_extension": ".py",
   "mimetype": "text/x-python",
   "name": "python",
   "nbconvert_exporter": "python",
   "pygments_lexer": "ipython3",
   "version": "3.11.0"
  },
  "orig_nbformat": 4
 },
 "nbformat": 4,
 "nbformat_minor": 2
}

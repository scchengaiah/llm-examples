{
 "cells": [
  {
   "cell_type": "markdown",
   "metadata": {},
   "source": [
    "# Cloud Research Agent"
   ]
  },
  {
   "cell_type": "markdown",
   "metadata": {},
   "source": [
    "## Goal\n",
    "\n",
    "Below are some of the agents and their responsibilities.\n",
    "\n",
    "- **Senior Cloud Architect** - Research cloud platforms (AWS, Azure & GCP) and prepare detailed solution architecture.\n",
    "- **Chief Cloud Architect** - Review the architecture proposed by the Senior cloud architect and provide recommendations to improve them making it cost-effective and scalable.\n",
    "- **Technical Documentation Specialist** - Converts the detailed solution architecture into detailed technical specification for the development team to take over.\n",
    "\n",
    "<span style=\"color:darkred\">**Next steps:**</span>\n",
    "\n",
    "***Developer based agents who can understand this technical documentation and prepare bootstrap code to start with the development."
   ]
  },
  {
   "cell_type": "markdown",
   "metadata": {},
   "source": [
    "## Implementation"
   ]
  },
  {
   "cell_type": "code",
   "execution_count": null,
   "metadata": {},
   "outputs": [],
   "source": [
    "# Install necessary packages.\n",
    "\n"
   ]
  }
 ],
 "metadata": {
  "language_info": {
   "name": "python"
  }
 },
 "nbformat": 4,
 "nbformat_minor": 2
}

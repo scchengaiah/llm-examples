{
  "cells": [
    {
      "cell_type": "markdown",
      "metadata": {
        "id": "Ay49nLZ73MvZ"
      },
      "source": [
        "## Youtube video link:\n",
        "https://youtu.be/WqlMnxlAj5o?si=QilXRBz78v21AsUy"
      ]
    },
    {
      "cell_type": "markdown",
      "metadata": {
        "id": "IfDtk4Bt9NVW"
      },
      "source": [
        "# Custom GPT Link:\n",
        "https://chatgpt.com/g/g-ptgad0eJV-crewai-to-agency-swarm-converter"
      ]
    },
    {
      "cell_type": "markdown",
      "metadata": {
        "id": "3tK10my5efql"
      },
      "source": [
        "# Trip Planner Example\n",
        "https://github.com/crewAIInc/crewAI-examples/tree/main/trip_planner"
      ]
    },
    {
      "cell_type": "markdown",
      "metadata": {
        "id": "bHw7OCwd31Zd"
      },
      "source": [
        "## Installation"
      ]
    },
    {
      "cell_type": "code",
      "execution_count": null,
      "metadata": {
        "id": "GUeiJzf6ei0V"
      },
      "outputs": [],
      "source": [
        "%%capture\n",
        "!pip install git+https://github.com/VRSEN/agency-swarm.git"
      ]
    },
    {
      "cell_type": "code",
      "execution_count": null,
      "metadata": {
        "id": "_bbWNOTweY89"
      },
      "outputs": [],
      "source": [
        "%%capture\n",
        "!pip install crewai==0.11.0 unstructured==0.10.25 pyowm==3.3.0 tools==0.1.9 python-dotenv==1.0.0"
      ]
    },
    {
      "cell_type": "code",
      "execution_count": null,
      "metadata": {
        "colab": {
          "base_uri": "https://localhost:8080/"
        },
        "id": "ahB1pSGxg0G9",
        "outputId": "af847e8a-248c-4065-ad75-696e5c19d653"
      },
      "outputs": [],
      "source": [
        "import os\n",
        "import getpass\n",
        "\n",
        "# Set environment variables for API keys\n",
        "os.environ['SERPER_API_KEY'] = getpass.getpass('Enter SERPER_API_KEY: ') # https://serper.dev/ (free tier)\n",
        "os.environ['BROWSERLESS_API_KEY'] = getpass.getpass('Enter BROWSERLESS_API_KEY: ') # https://www.browserless.io/ (free tier)\n",
        "os.environ['OPENAI_API_KEY'] = getpass.getpass('Enter OPENAI_API_KEY: ')"
      ]
    },
    {
      "cell_type": "markdown",
      "metadata": {
        "id": "mL7P-g5WfJwx"
      },
      "source": [
        "## Step 1: Convert the Tools\n"
      ]
    },
    {
      "cell_type": "markdown",
      "metadata": {
        "id": "wTU6hZkmlQe6"
      },
      "source": [
        "## Browser tools"
      ]
    },
    {
      "cell_type": "markdown",
      "metadata": {
        "id": "SIUwLSOFFs-k"
      },
      "source": [
        "CrewAI"
      ]
    },
    {
      "cell_type": "code",
      "execution_count": null,
      "metadata": {
        "id": "5iW3C-d4bcT2"
      },
      "outputs": [],
      "source": [
        "import json\n",
        "import os\n",
        "\n",
        "import requests\n",
        "from crewai import Agent, Task\n",
        "from langchain.tools import tool\n",
        "from unstructured.partition.html import partition_html\n",
        "\n",
        "\n",
        "class BrowserTools():\n",
        "  @tool(\"Scrape website content\")\n",
        "  def scrape_and_summarize_website(website):\n",
        "    \"\"\"Useful to scrape and summarize a website content\"\"\"\n",
        "    url = f\"https://chrome.browserless.io/content?token={os.environ['BROWSERLESS_API_KEY']}\"\n",
        "    payload = json.dumps({\"url\": website})\n",
        "    headers = {'cache-control': 'no-cache', 'content-type': 'application/json'}\n",
        "    response = requests.request(\"POST\", url, headers=headers, data=payload)\n",
        "    elements = partition_html(text=response.text)\n",
        "    content = \"\\n\\n\".join([str(el) for el in elements])\n",
        "    content = [content[i:i + 8000] for i in range(0, len(content), 8000)]\n",
        "    summaries = []\n",
        "    for chunk in content:\n",
        "      agent = Agent(\n",
        "          role='Principal Researcher',\n",
        "          goal=\n",
        "          'Do amazing researches and summaries based on the content you are working with',\n",
        "          backstory=\n",
        "          \"You're a Principal Researcher at a big company and you need to do a research about a given topic.\",\n",
        "          allow_delegation=False)\n",
        "      task = Task(\n",
        "          agent=agent,\n",
        "          model=\"gpt-4o-mini\",\n",
        "          description=\n",
        "          f'Analyze and summarize the content bellow, make sure to include the most relevant information in the summary, return only the summary nothing else.\\n\\nCONTENT\\n----------\\n{chunk}'\n",
        "      )\n",
        "      summary = task.execute()\n",
        "      summaries.append(summary)\n",
        "    return \"\\n\\n\".join(summaries)"
      ]
    },
    {
      "cell_type": "markdown",
      "metadata": {
        "id": "787hF5xEFwMx"
      },
      "source": [
        "Agency Swarm"
      ]
    },
    {
      "cell_type": "code",
      "execution_count": null,
      "metadata": {
        "id": "KI9wa7dJgenL"
      },
      "outputs": [],
      "source": [
        "import json\n",
        "import os\n",
        "import requests\n",
        "from agency_swarm.tools import BaseTool\n",
        "from pydantic import Field\n",
        "from unstructured.partition.html import partition_html\n",
        "from agency_swarm import get_openai_client\n",
        "\n",
        "class ScrapeAndSummarizeWebsite(BaseTool):\n",
        "    \"\"\"\n",
        "    Tool for scraping and summarizing website content.\n",
        "    \"\"\"\n",
        "    website: str = Field(..., description=\"The URL of the website to scrape and summarize.\")\n",
        "\n",
        "    def run(self):\n",
        "        url = f\"https://chrome.browserless.io/content?token={os.environ['BROWSERLESS_API_KEY']}\"\n",
        "        payload = json.dumps({\"url\": self.website})\n",
        "        headers = {'cache-control': 'no-cache', 'content-type': 'application/json'}\n",
        "        response = requests.request(\"POST\", url, headers=headers, data=payload)\n",
        "        elements = partition_html(text=response.text)\n",
        "        content = \"\\n\\n\".join([str(el) for el in elements])\n",
        "        content = [content[i:i + 8000] for i in range(0, len(content), 8000)]\n",
        "        summaries = []\n",
        "        client = get_openai_client()\n",
        "\n",
        "        for chunk in content:\n",
        "            task_description = dedent(f\"\"\"\n",
        "                Analyze and summarize the content below, make sure to include the most relevant information in the summary, return only the summary nothing else.\n",
        "\n",
        "                CONTENT\n",
        "                ----------\n",
        "                {chunk}\n",
        "            \"\"\")\n",
        "            completion = client.chat.completions.create(\n",
        "                model=\"gpt-4o\",\n",
        "                messages=[\n",
        "                    {\"role\": \"system\", \"content\": \"You are a Principal Researcher at a big company and you need to do research about a given topic.\"},\n",
        "                    {\"role\": \"user\", \"content\": task_description}\n",
        "                ],\n",
        "            )\n",
        "            summary = completion.choices[0].message.content\n",
        "            summaries.append(summary)\n",
        "\n",
        "        return \"\\n\\n\".join(summaries)\n"
      ]
    },
    {
      "cell_type": "markdown",
      "metadata": {
        "id": "oDnGdPopmEIt"
      },
      "source": [
        "## Calculator Tools"
      ]
    },
    {
      "cell_type": "markdown",
      "metadata": {
        "id": "1Imoo_93FqX5"
      },
      "source": [
        "CrewAI"
      ]
    },
    {
      "cell_type": "code",
      "execution_count": null,
      "metadata": {
        "id": "pLatZ3fbmD3l"
      },
      "outputs": [],
      "source": [
        "from langchain.tools import tool\n",
        "\n",
        "class CalculatorTools():\n",
        "    @tool(\"Make a calculation\")\n",
        "    def calculate(operation):\n",
        "        \"\"\"Useful to perform any mathematical calculations,\n",
        "        like sum, minus, multiplication, division, etc.\n",
        "        The input to this tool should be a mathematical\n",
        "        expression, a couple examples are `200*7` or `5000/2*10`\n",
        "        \"\"\"\n",
        "        try:\n",
        "            return eval(operation)\n",
        "        except SyntaxError:\n",
        "            return \"Error: Invalid syntax in mathematical expression\""
      ]
    },
    {
      "cell_type": "markdown",
      "metadata": {
        "id": "9y2YnKdgFrbp"
      },
      "source": [
        "Agency Swarm"
      ]
    },
    {
      "cell_type": "code",
      "execution_count": null,
      "metadata": {
        "id": "N7p3prk_lO3i"
      },
      "outputs": [],
      "source": [
        "from agency_swarm.tools import BaseTool\n",
        "from pydantic import Field\n",
        "\n",
        "class CalculatorTool(BaseTool):\n",
        "    \"\"\"\n",
        "    Tool for performing mathematical calculations such as sum, minus, multiplication, division, etc.\n",
        "    \"\"\"\n",
        "    operation: str = Field(..., description=\"A mathematical expression to be evaluated, e.g., '200*7' or '5000/2*10'.\")\n",
        "\n",
        "    def run(self):\n",
        "        try:\n",
        "            result = eval(self.operation)\n",
        "            return str(result)\n",
        "        except SyntaxError:\n",
        "            return \"Error: Invalid syntax in mathematical expression\"\n"
      ]
    },
    {
      "cell_type": "markdown",
      "metadata": {
        "id": "8HuQ5B3AmKZD"
      },
      "source": [
        "## Search Tools"
      ]
    },
    {
      "cell_type": "markdown",
      "metadata": {
        "id": "wo_KqIg5Fyjv"
      },
      "source": [
        "CrewAI"
      ]
    },
    {
      "cell_type": "code",
      "execution_count": null,
      "metadata": {
        "id": "3Ks8IZIPmaRR"
      },
      "outputs": [],
      "source": [
        "import json\n",
        "import os\n",
        "\n",
        "import requests\n",
        "from langchain.tools import tool\n",
        "\n",
        "\n",
        "class SearchTools():\n",
        "\n",
        "  @tool(\"Search the internet\")\n",
        "  def search_internet(query):\n",
        "    \"\"\"Useful to search the internet\n",
        "    about a a given topic and return relevant results\"\"\"\n",
        "    top_result_to_return = 4\n",
        "    url = \"https://google.serper.dev/search\"\n",
        "    payload = json.dumps({\"q\": query})\n",
        "    headers = {\n",
        "        'X-API-KEY': os.environ['SERPER_API_KEY'],\n",
        "        'content-type': 'application/json'\n",
        "    }\n",
        "    response = requests.request(\"POST\", url, headers=headers, data=payload)\n",
        "    # check if there is an organic key\n",
        "    if 'organic' not in response.json():\n",
        "      return \"Sorry, I couldn't find anything about that, there could be an error with you serper api key.\"\n",
        "    else:\n",
        "      results = response.json()['organic']\n",
        "      string = []\n",
        "      for result in results[:top_result_to_return]:\n",
        "        try:\n",
        "          string.append('\\n'.join([\n",
        "              f\"Title: {result['title']}\", f\"Link: {result['link']}\",\n",
        "              f\"Snippet: {result['snippet']}\", \"\\n-----------------\"\n",
        "          ]))\n",
        "        except KeyError:\n",
        "          next\n",
        "\n",
        "      return '\\n'.join(string)"
      ]
    },
    {
      "cell_type": "markdown",
      "metadata": {
        "id": "cQ-76uGQFz4H"
      },
      "source": [
        "Agency Swarm"
      ]
    },
    {
      "cell_type": "code",
      "execution_count": null,
      "metadata": {
        "id": "hGyCPTLtmY7u"
      },
      "outputs": [],
      "source": [
        "import json\n",
        "import os\n",
        "import requests\n",
        "from agency_swarm.tools import BaseTool\n",
        "from pydantic import Field\n",
        "\n",
        "class SearchInternet(BaseTool):\n",
        "    \"\"\"\n",
        "    Tool for searching the internet about a given topic and returning relevant results.\n",
        "    \"\"\"\n",
        "    query: str = Field(..., description=\"The search query for the internet search.\")\n",
        "\n",
        "    def run(self):\n",
        "        top_result_to_return = 4\n",
        "        url = \"https://google.serper.dev/search\"\n",
        "        payload = json.dumps({\"q\": self.query})\n",
        "        headers = {\n",
        "            'X-API-KEY': os.environ['SERPER_API_KEY'],\n",
        "            'content-type': 'application/json'\n",
        "        }\n",
        "        response = requests.request(\"POST\", url, headers=headers, data=payload)\n",
        "        if 'organic' not in response.json():\n",
        "            return \"Sorry, I couldn't find anything about that, there could be an error with your Serper API key.\"\n",
        "        else:\n",
        "            results = response.json()['organic']\n",
        "            string = []\n",
        "            for result in results[:top_result_to_return]:\n",
        "                try:\n",
        "                    string.append('\\n'.join([\n",
        "                        f\"Title: {result['title']}\",\n",
        "                        f\"Link: {result['link']}\",\n",
        "                        f\"Snippet: {result['snippet']}\",\n",
        "                        \"\\n-----------------\"\n",
        "                    ]))\n",
        "                except KeyError:\n",
        "                    continue\n",
        "\n",
        "            return '\\n'.join(string)"
      ]
    },
    {
      "cell_type": "markdown",
      "metadata": {
        "id": "Gk6KpassmlFq"
      },
      "source": [
        "# Step 2: Convert the Agents\n",
        "\n",
        "Use the following prompt: \"Convert this into agency swarm agents, using the existing API parameters:\""
      ]
    },
    {
      "cell_type": "code",
      "execution_count": null,
      "metadata": {
        "id": "onLckPZbmnNM"
      },
      "outputs": [],
      "source": [
        "from crewai import Agent\n",
        "from langchain.llms import OpenAI\n",
        "\n",
        "class TripAgentsCrew():\n",
        "  def city_selection_agent(self):\n",
        "    return Agent(\n",
        "        role='City Selection Expert',\n",
        "        goal='Select the best city based on weather, season, and prices',\n",
        "        backstory=\n",
        "        'An expert in analyzing travel data to pick ideal destinations',\n",
        "        tools=[\n",
        "            SearchTools.search_internet,\n",
        "            BrowserTools.scrape_and_summarize_website,\n",
        "        ],\n",
        "        model=\"gpt-4o-mini\",\n",
        "        verbose=True)\n",
        "\n",
        "  def local_expert(self):\n",
        "    return Agent(\n",
        "        role='Local Expert at this city',\n",
        "        goal='Provide the BEST insights about the selected city',\n",
        "        backstory=\"\"\"A knowledgeable local guide with extensive information\n",
        "        about the city, it's attractions and customs\"\"\",\n",
        "        tools=[\n",
        "            SearchTools.search_internet,\n",
        "            BrowserTools.scrape_and_summarize_website,\n",
        "        ],\n",
        "        model=\"gpt-4o-mini\",\n",
        "        verbose=True)\n",
        "\n",
        "  def travel_concierge(self):\n",
        "    return Agent(\n",
        "        role='Amazing Travel Concierge',\n",
        "        goal=\"\"\"Create the most amazing travel itineraries with budget and\n",
        "        packing suggestions for the city\"\"\",\n",
        "        backstory=\"\"\"Specialist in travel planning and logistics with\n",
        "        decades of experience\"\"\",\n",
        "        tools=[\n",
        "            SearchTools.search_internet,\n",
        "            BrowserTools.scrape_and_summarize_website,\n",
        "            CalculatorTools.calculate,\n",
        "        ],\n",
        "        model=\"gpt-4o-mini\",\n",
        "        verbose=True)"
      ]
    },
    {
      "cell_type": "code",
      "execution_count": null,
      "metadata": {
        "id": "KRD9I1l5m5sT"
      },
      "outputs": [],
      "source": [
        "from agency_swarm import Agent\n",
        "\n",
        "class TripAgentsAgency:\n",
        "    def city_selection_agent(self):\n",
        "        return Agent(\n",
        "            name=\"City Selection Expert\",\n",
        "            description=\"An expert in analyzing travel data to pick ideal destinations\",\n",
        "            instructions=\"Select the best city based on weather, season, and prices.\",\n",
        "            tools=[\n",
        "                SearchInternet,\n",
        "                ScrapeAndSummarizeWebsite,\n",
        "            ],\n",
        "            model=\"gpt-4o-mini\",\n",
        "        )\n",
        "\n",
        "    def local_expert(self):\n",
        "        return Agent(\n",
        "            name=\"Local Expert at this city\",\n",
        "            description=\"A knowledgeable local guide with extensive information about the city, its attractions, and customs.\",\n",
        "            instructions=\"Provide the BEST insights about the selected city.\",\n",
        "            tools=[\n",
        "                SearchInternet,\n",
        "                ScrapeAndSummarizeWebsite,\n",
        "            ],\n",
        "            model=\"gpt-4o-mini\",\n",
        "        )\n",
        "\n",
        "    def travel_concierge(self):\n",
        "        return Agent(\n",
        "            name=\"Amazing Travel Concierge\",\n",
        "            description=\"Specialist in travel planning and logistics with decades of experience.\",\n",
        "            instructions=\"Create the most amazing travel itineraries with budget and packing suggestions for the city.\",\n",
        "            tools=[\n",
        "                SearchInternet,\n",
        "                ScrapeAndSummarizeWebsite,\n",
        "                CalculatorTool,\n",
        "            ],\n",
        "            model=\"gpt-4o-mini\",\n",
        "        )\n"
      ]
    },
    {
      "cell_type": "markdown",
      "metadata": {
        "id": "kwfVCHZhngLt"
      },
      "source": [
        "# Step 3: Convert Tasks"
      ]
    },
    {
      "cell_type": "markdown",
      "metadata": {
        "id": "p7F8rp010j_U"
      },
      "source": [
        "Use the following prompt: \"Convert these tasks into agency.get_completion methods. Pass the agent into recepient_agent parameter:\""
      ]
    },
    {
      "cell_type": "code",
      "execution_count": null,
      "metadata": {
        "id": "erlVTY_Rnf1M"
      },
      "outputs": [],
      "source": [
        "from crewai import Task\n",
        "from textwrap import dedent\n",
        "from datetime import date\n",
        "\n",
        "\n",
        "class TripTasksCrew():\n",
        "\n",
        "  def identify_task(self, agent, origin, cities, interests, range):\n",
        "    return Task(description=dedent(f\"\"\"\n",
        "        Analyze and select the best city for the trip based\n",
        "        on specific criteria such as weather patterns, seasonal\n",
        "        events, and travel costs. This task involves comparing\n",
        "        multiple cities, considering factors like current weather\n",
        "        conditions, upcoming cultural or seasonal events, and\n",
        "        overall travel expenses.\n",
        "\n",
        "        Your final answer must be a detailed\n",
        "        report on the chosen city, and everything you found out\n",
        "        about it, including the actual flight costs, weather\n",
        "        forecast and attractions.\n",
        "        {self.__tip_section()}\n",
        "\n",
        "        Traveling from: {origin}\n",
        "        City Options: {cities}\n",
        "        Trip Date: {range}\n",
        "        Traveler Interests: {interests}\n",
        "      \"\"\"),\n",
        "                agent=agent)\n",
        "\n",
        "  def gather_task(self, agent, origin, interests, range):\n",
        "    return Task(description=dedent(f\"\"\"\n",
        "        As a local expert on this city you must compile an\n",
        "        in-depth guide for someone traveling there and wanting\n",
        "        to have THE BEST trip ever!\n",
        "        Gather information about  key attractions, local customs,\n",
        "        special events, and daily activity recommendations.\n",
        "        Find the best spots to go to, the kind of place only a\n",
        "        local would know.\n",
        "        This guide should provide a thorough overview of what\n",
        "        the city has to offer, including hidden gems, cultural\n",
        "        hotspots, must-visit landmarks, weather forecasts, and\n",
        "        high level costs.\n",
        "\n",
        "        The final answer must be a comprehensive city guide,\n",
        "        rich in cultural insights and practical tips,\n",
        "        tailored to enhance the travel experience.\n",
        "        {self.__tip_section()}\n",
        "\n",
        "        Trip Date: {range}\n",
        "        Traveling from: {origin}\n",
        "        Traveler Interests: {interests}\n",
        "      \"\"\"),\n",
        "                agent=agent)\n",
        "\n",
        "  def plan_task(self, agent, origin, interests, range):\n",
        "    return Task(description=dedent(f\"\"\"\n",
        "        Expand this guide into a a full 7-day travel\n",
        "        itinerary with detailed per-day plans, including\n",
        "        weather forecasts, places to eat, packing suggestions,\n",
        "        and a budget breakdown.\n",
        "\n",
        "        You MUST suggest actual places to visit, actual hotels\n",
        "        to stay and actual restaurants to go to.\n",
        "\n",
        "        This itinerary should cover all aspects of the trip,\n",
        "        from arrival to departure, integrating the city guide\n",
        "        information with practical travel logistics.\n",
        "\n",
        "        Your final answer MUST be a complete expanded travel plan,\n",
        "        formatted as markdown, encompassing a daily schedule,\n",
        "        anticipated weather conditions, recommended clothing and\n",
        "        items to pack, and a detailed budget, ensuring THE BEST\n",
        "        TRIP EVER, Be specific and give it a reason why you picked\n",
        "        # up each place, what make them special! {self.__tip_section()}\n",
        "\n",
        "        Trip Date: {range}\n",
        "        Traveling from: {origin}\n",
        "        Traveler Interests: {interests}\n",
        "      \"\"\"),\n",
        "                agent=agent)\n",
        "\n",
        "  def __tip_section(self):\n",
        "    return \"If you do your BEST WORK, I'll tip you $100!\""
      ]
    },
    {
      "cell_type": "code",
      "execution_count": null,
      "metadata": {
        "id": "m-03cMD40xzX"
      },
      "outputs": [],
      "source": [
        "from textwrap import dedent\n",
        "from datetime import date\n",
        "\n",
        "class TripTasksAgency:\n",
        "\n",
        "    def identify_task(self, agency, agent, origin, cities, interests, date_range):\n",
        "        task_description = dedent(f\"\"\"\n",
        "            Analyze and select the best city for the trip based\n",
        "            on specific criteria such as weather patterns, seasonal\n",
        "            events, and travel costs. This task involves comparing\n",
        "            multiple cities, considering factors like current weather\n",
        "            conditions, upcoming cultural or seasonal events, and\n",
        "            overall travel expenses.\n",
        "\n",
        "            Your final answer must be a detailed\n",
        "            report on the chosen city, and everything you found out\n",
        "            about it, including the actual flight costs, weather\n",
        "            forecast and attractions.\n",
        "            {self.__tip_section()}\n",
        "\n",
        "            Traveling from: {origin}\n",
        "            City Options: {cities}\n",
        "            Trip Date: {date_range}\n",
        "            Traveler Interests: {interests}\n",
        "        \"\"\")\n",
        "\n",
        "        return agency.get_completion(\n",
        "            message=task_description,\n",
        "            recipient_agent=agent,\n",
        "            verbose=True\n",
        "        )\n",
        "\n",
        "    def gather_task(self, agency, agent, origin, interests, date_range):\n",
        "        task_description = dedent(f\"\"\"\n",
        "            As a local expert on this city you must compile an\n",
        "            in-depth guide for someone traveling there and wanting\n",
        "            to have THE BEST trip ever!\n",
        "            Gather information about key attractions, local customs,\n",
        "            special events, and daily activity recommendations.\n",
        "            Find the best spots to go to, the kind of place only a\n",
        "            local would know.\n",
        "            This guide should provide a thorough overview of what\n",
        "            the city has to offer, including hidden gems, cultural\n",
        "            hotspots, must-visit landmarks, weather forecasts, and\n",
        "            high level costs.\n",
        "\n",
        "            The final answer must be a comprehensive city guide,\n",
        "            rich in cultural insights and practical tips,\n",
        "            tailored to enhance the travel experience.\n",
        "            {self.__tip_section()}\n",
        "\n",
        "            Trip Date: {date_range}\n",
        "            Traveling from: {origin}\n",
        "            Traveler Interests: {interests}\n",
        "        \"\"\")\n",
        "\n",
        "        return agency.get_completion(\n",
        "            message=task_description,\n",
        "            recipient_agent=agent,\n",
        "            verbose=True\n",
        "        )\n",
        "\n",
        "    def plan_task(self, agency, agent, origin, interests, date_range):\n",
        "        task_description = dedent(f\"\"\"\n",
        "            Expand this guide into a full 7-day travel\n",
        "            itinerary with detailed per-day plans, including\n",
        "            weather forecasts, places to eat, packing suggestions,\n",
        "            and a budget breakdown.\n",
        "\n",
        "            You MUST suggest actual places to visit, actual hotels\n",
        "            to stay and actual restaurants to go to.\n",
        "\n",
        "            This itinerary should cover all aspects of the trip,\n",
        "            from arrival to departure, integrating the city guide\n",
        "            information with practical travel logistics.\n",
        "\n",
        "            Your final answer MUST be a complete expanded travel plan,\n",
        "            formatted as markdown, encompassing a daily schedule,\n",
        "            anticipated weather conditions, recommended clothing and\n",
        "            items to pack, and a detailed budget, ensuring THE BEST\n",
        "            TRIP EVER. Be specific and give it a reason why you picked\n",
        "            each place, what makes them special! {self.__tip_section()}\n",
        "\n",
        "            Trip Date: {date_range}\n",
        "            Traveling from: {origin}\n",
        "            Traveler Interests: {interests}\n",
        "        \"\"\")\n",
        "\n",
        "        return agency.get_completion(\n",
        "            message=task_description,\n",
        "            recipient_agent=agent,\n",
        "            verbose=True\n",
        "        )\n",
        "\n",
        "    def __tip_section(self):\n",
        "        return \"If you do your BEST WORK, I'll tip you $100!\""
      ]
    },
    {
      "cell_type": "markdown",
      "metadata": {
        "id": "Gawzrdg01DBs"
      },
      "source": [
        "# Step 4: Convert Crew\n",
        "\n",
        "Use the following prompt: \"Convert this into Agency:\""
      ]
    },
    {
      "cell_type": "code",
      "execution_count": null,
      "metadata": {
        "colab": {
          "base_uri": "https://localhost:8080/"
        },
        "id": "WJjbGjQu4OBE",
        "outputId": "45d54b5c-a500-4339-9240-e969179bb4b0"
      },
      "outputs": [],
      "source": [
        "%%time\n",
        "\n",
        "from crewai import Crew, Agent\n",
        "from textwrap import dedent\n",
        "\n",
        "from dotenv import load_dotenv\n",
        "load_dotenv()\n",
        "\n",
        "class TripCrew:\n",
        "\n",
        "  def __init__(self, origin, cities, date_range, interests):\n",
        "    self.cities = cities\n",
        "    self.origin = origin\n",
        "    self.interests = interests\n",
        "    self.date_range = date_range\n",
        "\n",
        "  def run(self):\n",
        "    agents = TripAgentsCrew()\n",
        "    tasks = TripTasksCrew()\n",
        "\n",
        "    city_selector_agent = agents.city_selection_agent()\n",
        "    local_expert_agent = agents.local_expert()\n",
        "    travel_concierge_agent = agents.travel_concierge()\n",
        "\n",
        "    identify_task = tasks.identify_task(\n",
        "      city_selector_agent,\n",
        "      self.origin,\n",
        "      self.cities,\n",
        "      self.interests,\n",
        "      self.date_range\n",
        "    )\n",
        "    gather_task = tasks.gather_task(\n",
        "      local_expert_agent,\n",
        "      self.origin,\n",
        "      self.interests,\n",
        "      self.date_range\n",
        "    )\n",
        "    plan_task = tasks.plan_task(\n",
        "      travel_concierge_agent,\n",
        "      self.origin,\n",
        "      self.interests,\n",
        "      self.date_range\n",
        "    )\n",
        "\n",
        "    crew = Crew(\n",
        "      agents=[\n",
        "        city_selector_agent, local_expert_agent, travel_concierge_agent\n",
        "      ],\n",
        "      tasks=[identify_task, gather_task, plan_task],\n",
        "      verbose=True\n",
        "    )\n",
        "\n",
        "    result = crew.kickoff()\n",
        "    return result\n",
        "\n",
        "print(\"## Welcome to Trip Planner Crew\")\n",
        "print('-------------------------------')\n",
        "location = input(\n",
        "  dedent(\"\"\"\n",
        "    From where will you be traveling from?\n",
        "  \"\"\"))\n",
        "cities = input(\n",
        "  dedent(\"\"\"\n",
        "    What are the cities options you are interested in visiting?\n",
        "  \"\"\"))\n",
        "date_range = input(\n",
        "  dedent(\"\"\"\n",
        "    What is the date range you are interested in traveling?\n",
        "  \"\"\"))\n",
        "interests = input(\n",
        "  dedent(\"\"\"\n",
        "    What are some of your high level interests and hobbies?\n",
        "  \"\"\"))\n",
        "\n",
        "trip_crew = TripCrew(location, cities, date_range, interests)\n",
        "crew_result = trip_crew.run()\n",
        "print(\"\\n\\n########################\")\n",
        "print(\"## Here is you Trip Plan\")\n",
        "print(\"########################\\n\")\n",
        "print(crew_result)"
      ]
    },
    {
      "cell_type": "code",
      "execution_count": null,
      "metadata": {
        "colab": {
          "base_uri": "https://localhost:8080/",
          "height": 1000
        },
        "id": "g-fXq_S01CYa",
        "outputId": "adb7afc0-dbd3-423d-d74a-be375d583194"
      },
      "outputs": [],
      "source": [
        "%%time\n",
        "from textwrap import dedent\n",
        "from dotenv import load_dotenv\n",
        "from agency_swarm import Agency, Agent\n",
        "\n",
        "load_dotenv()\n",
        "\n",
        "class TripAgency:\n",
        "\n",
        "    def __init__(self, origin, cities, date_range, interests):\n",
        "        self.cities = cities\n",
        "        self.origin = origin\n",
        "        self.interests = interests\n",
        "        self.date_range = date_range\n",
        "\n",
        "    def run(self):\n",
        "        agents = TripAgentsAgency()\n",
        "        tasks = TripTasksAgency()\n",
        "\n",
        "        city_selector_agent = agents.city_selection_agent()\n",
        "        local_expert_agent = agents.local_expert()\n",
        "        travel_concierge_agent = agents.travel_concierge()\n",
        "\n",
        "        agency = Agency(\n",
        "            agency_chart=[\n",
        "                city_selector_agent, local_expert_agent, travel_concierge_agent,\n",
        "            ]\n",
        "        )\n",
        "\n",
        "        identify_task = tasks.identify_task(\n",
        "            agency,\n",
        "            city_selector_agent,\n",
        "            self.origin,\n",
        "            self.cities,\n",
        "            self.interests,\n",
        "            self.date_range\n",
        "        )\n",
        "        gather_task = tasks.gather_task(\n",
        "            agency,\n",
        "            local_expert_agent,\n",
        "            self.origin,\n",
        "            self.interests,\n",
        "            self.date_range\n",
        "        )\n",
        "        plan_task = tasks.plan_task(\n",
        "            agency,\n",
        "            travel_concierge_agent,\n",
        "            self.origin,\n",
        "            self.interests,\n",
        "            self.date_range\n",
        "        )\n",
        "\n",
        "        tasks_list = [identify_task, gather_task, plan_task]\n",
        "\n",
        "        # Execute tasks in sequence\n",
        "        results = []\n",
        "        for task in tasks_list:\n",
        "            result = task\n",
        "            results.append(result)\n",
        "\n",
        "        return plan_task\n",
        "\n",
        "\n",
        "print(\"## Welcome to Trip Planner Agency\")\n",
        "print('-------------------------------')\n",
        "location = input(\n",
        "    dedent(\"\"\"\n",
        "        From where will you be traveling from?\n",
        "    \"\"\"))\n",
        "cities = input(\n",
        "    dedent(\"\"\"\n",
        "        What are the cities options you are interested in visiting?\n",
        "    \"\"\"))\n",
        "date_range = input(\n",
        "    dedent(\"\"\"\n",
        "        What is the date range you are interested in traveling?\n",
        "    \"\"\"))\n",
        "interests = input(\n",
        "    dedent(\"\"\"\n",
        "        What are some of your high level interests and hobbies?\n",
        "    \"\"\"))\n",
        "\n",
        "trip_agency = TripAgency(location, cities, date_range, interests)\n",
        "# Assuming `agency` is initialized elsewhere and passed here\n",
        "agency_result = trip_agency.run()\n",
        "print(\"\\n\\n########################\")\n",
        "print(\"## Here is your Trip Plan\")\n",
        "print(\"########################\\n\")\n",
        "print(agency_result)"
      ]
    },
    {
      "cell_type": "markdown",
      "metadata": {
        "id": "JHh4ABnTvpZJ"
      },
      "source": [
        "# Compare the results"
      ]
    },
    {
      "cell_type": "code",
      "execution_count": null,
      "metadata": {
        "id": "eFZbQGdKDST3"
      },
      "outputs": [],
      "source": [
        "from agency_swarm.messages import MessageOutput"
      ]
    },
    {
      "cell_type": "code",
      "execution_count": null,
      "metadata": {
        "cellView": "form",
        "colab": {
          "base_uri": "https://localhost:8080/",
          "height": 1000
        },
        "id": "u02rRD9hv2w8",
        "outputId": "07c6deaf-1f94-4a10-d0fa-f836998f3de0"
      },
      "outputs": [],
      "source": [
        "#@title Crew AI\n",
        "MessageOutput(\"text\", content=crew_result, sender_name=\"CrewAI Results\", receiver_name=\"User\").cprint()"
      ]
    },
    {
      "cell_type": "code",
      "execution_count": null,
      "metadata": {
        "cellView": "form",
        "colab": {
          "base_uri": "https://localhost:8080/",
          "height": 1000
        },
        "id": "ygkwJd9Yv-4p",
        "outputId": "df58f579-6f7a-4434-a650-73199000c464"
      },
      "outputs": [],
      "source": [
        "#@title Agency Swarm\n",
        "MessageOutput(\"text\", content=agency_result, sender_name=\"CrewAI Results\", receiver_name=\"User\").cprint()"
      ]
    },
    {
      "cell_type": "code",
      "execution_count": null,
      "metadata": {
        "colab": {
          "base_uri": "https://localhost:8080/"
        },
        "id": "Jiyz9nI2OEG6",
        "outputId": "7335685c-d37e-498c-fb66-3ef1203f9e5a"
      },
      "outputs": [],
      "source": [
        "from agency_swarm import get_openai_client\n",
        "\n",
        "client = get_openai_client()\n",
        "\n",
        "completion = client.chat.completions.create(\n",
        "    model=\"gpt-4o\",\n",
        "    messages=[\n",
        "        {\"role\": \"system\", \"content\": \"Compare which travel plan is better. First provide your reasoning, then evaluation. Only output 1 option\"},\n",
        "        {\"role\": \"user\", \"content\": \"CrewAI Travel Plan:\" + crew_result + \"\\n\\nAgency Swarm Travel Plan:\" + agency_result},\n",
        "    ],\n",
        "    temperature=0,\n",
        ")\n",
        "\n",
        "print(completion.choices[0].message.content)"
      ]
    }
  ],
  "metadata": {
    "colab": {
      "provenance": []
    },
    "kernelspec": {
      "display_name": "Python 3",
      "name": "python3"
    },
    "language_info": {
      "name": "python"
    }
  },
  "nbformat": 4,
  "nbformat_minor": 0
}
